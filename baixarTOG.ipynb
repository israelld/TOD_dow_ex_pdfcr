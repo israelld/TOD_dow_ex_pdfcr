{
 "cells": [
  {
   "cell_type": "code",
   "execution_count": null,
   "metadata": {},
   "outputs": [],
   "source": [
    "#usar o Wget é melhor..."
   ]
  },
  {
   "cell_type": "code",
   "execution_count": 1,
   "metadata": {},
   "outputs": [
    {
     "output_type": "error",
     "ename": "ModuleNotFoundError",
     "evalue": "No module named 'fpdf'",
     "traceback": [
      "\u001b[1;31m---------------------------------------------------------------------------\u001b[0m",
      "\u001b[1;31mModuleNotFoundError\u001b[0m                       Traceback (most recent call last)",
      "\u001b[1;32m<ipython-input-1-4bb3c3351394>\u001b[0m in \u001b[0;36m<module>\u001b[1;34m\u001b[0m\n\u001b[0;32m      3\u001b[0m \u001b[1;32mimport\u001b[0m \u001b[0mzipfile\u001b[0m\u001b[1;33m\u001b[0m\u001b[1;33m\u001b[0m\u001b[0m\n\u001b[0;32m      4\u001b[0m \u001b[1;32mimport\u001b[0m \u001b[0mos\u001b[0m\u001b[1;33m\u001b[0m\u001b[1;33m\u001b[0m\u001b[0m\n\u001b[1;32m----> 5\u001b[1;33m \u001b[1;32mfrom\u001b[0m \u001b[0mfpdf\u001b[0m \u001b[1;32mimport\u001b[0m \u001b[0mFPDF\u001b[0m\u001b[1;33m\u001b[0m\u001b[1;33m\u001b[0m\u001b[0m\n\u001b[0m\u001b[0;32m      6\u001b[0m \u001b[1;32mfrom\u001b[0m \u001b[0mPIL\u001b[0m \u001b[1;32mimport\u001b[0m \u001b[0mImage\u001b[0m\u001b[1;33m\u001b[0m\u001b[1;33m\u001b[0m\u001b[0m\n\u001b[0;32m      7\u001b[0m \u001b[0mprint\u001b[0m\u001b[1;33m(\u001b[0m\u001b[1;36m1\u001b[0m\u001b[1;33m)\u001b[0m\u001b[1;33m\u001b[0m\u001b[1;33m\u001b[0m\u001b[0m\n",
      "\u001b[1;31mModuleNotFoundError\u001b[0m: No module named 'fpdf'"
     ]
    }
   ],
   "source": [
    "import webbrowser\n",
    "import time\n",
    "import zipfile\n",
    "import os\n",
    "from fpdf import FPDF\n",
    "from PIL import Image"
   ]
  },
  {
   "cell_type": "code",
   "execution_count": null,
   "metadata": {},
   "outputs": [],
   "source": [
    "for x in range(87, 485):\n",
    "    webbrowser.get(\"C:/Program Files (x86)/Google/Chrome/Application/chrome.exe %s\").open(\"http://images.mangafreak.net:8080/downloads/Tower_Of_God_\"+str(x))\n",
    "    cond = True\n",
    "    while(cond):\n",
    "        fileName = r\"C:\\Users\\Israel\\Downloads\\teste\\Tower_Of_God_\"+str(x)+\".zip\"\n",
    "        os.path.isfile(fileName)\n",
    "        if os.path.isfile(fileName) == True:\n",
    "            cond = False\n",
    "        time.sleep(1)"
   ]
  },
  {
   "cell_type": "code",
   "execution_count": null,
   "metadata": {},
   "outputs": [],
   "source": [
    "for x in range(5, 485):\n",
    "    cond = True\n",
    "    imagesList = None\n",
    "    imagesList = []\n",
    "    image, path, dirs, files, image1, pdf_filename, append_images, fileName = None, None, None, None, None, None, None, None\n",
    "    fantasy_zip = None\n",
    "        \n",
    "    fantasy_zip = zipfile.ZipFile('C:\\\\Users\\\\Israel\\\\Downloads\\\\teste\\\\Tower_Of_God_'+str(x)+'.zip')\n",
    "    fantasy_zip.extractall('C:\\\\Users\\\\Israel\\\\Downloads\\\\teste\\\\Tower_Of_God_'+str(x))\n",
    "    fantasy_zip.close()\n",
    "    \n",
    "    time.sleep(5)\n",
    "    \n",
    "    path, dirs, files = next(os.walk(\"C:\\\\Users\\\\Israel\\\\Downloads\\\\teste\\\\Tower_Of_God_\"+str(x)))\n",
    "    file_count = len(files)\n",
    "    \n",
    "    time.sleep(3)\n",
    "    \n",
    "    image1 = Image.open(r'C:\\Users\\Israel\\Downloads\\teste\\Tower_Of_God_'+str(x)+'\\\\tower_of_god_'+str(x)+'_1.jpg')\n",
    "    for y in range(2, file_count+1):\n",
    "        image = Image.open(r'C:\\Users\\Israel\\Downloads\\teste\\Tower_Of_God_'+str(x)+'\\\\tower_of_god_'+str(x)+'_'+str(y)+'.jpg')\n",
    "        imagesList.append(image)\n",
    "        #im = image4.convert('RGB')\n",
    "        \n",
    "    pdf_filename = \"/Users/Israel/Downloads/teste/Tower_Of_God_\"+str(x)+\".pdf\"    \n",
    "    image1.save(pdf_filename, \"PDF\" ,resolution=100.0, save_all=True, append_images=imagesList)\n",
    "    \n",
    "    while(cond):\n",
    "        fileName = r\"C:\\Users\\Israel\\Downloads\\teste\\Tower_Of_God_\"+str(x)+\".pdf\"\n",
    "        os.path.isfile(fileName)\n",
    "        if os.path.isfile(fileName) == True:\n",
    "            cond = False\n",
    "        time.sleep(1)\n"
   ]
  },
  {
   "cell_type": "code",
   "execution_count": 2,
   "metadata": {
    "tags": []
   },
   "outputs": [
    {
     "output_type": "stream",
     "name": "stdout",
     "text": "1\n"
    }
   ],
   "source": [
    "print(1)"
   ]
  },
  {
   "cell_type": "code",
   "execution_count": null,
   "metadata": {},
   "outputs": [],
   "source": []
  }
 ],
 "metadata": {
  "language_info": {
   "codemirror_mode": {
    "name": "ipython",
    "version": 3
   },
   "file_extension": ".py",
   "mimetype": "text/x-python",
   "name": "python",
   "nbconvert_exporter": "python",
   "pygments_lexer": "ipython3",
   "version": "3.8.3-final"
  },
  "orig_nbformat": 2,
  "kernelspec": {
   "name": "python38332bit8d1bc8d33f8641969f84c424d5478f17",
   "display_name": "Python 3.8.3 32-bit"
  }
 },
 "nbformat": 4,
 "nbformat_minor": 2
}