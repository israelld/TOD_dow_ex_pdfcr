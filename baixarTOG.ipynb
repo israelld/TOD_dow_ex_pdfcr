{
 "cells": [
  {
   "cell_type": "code",
   "execution_count": null,
   "metadata": {},
   "outputs": [],
   "source": [
    "import webbrowser\n",
    "import time\n",
    "import zipfile\n",
    "import os\n",
    "from fpdf import FPDF\n",
    "from PIL import Image\n"
   ]
  },
  {
   "cell_type": "code",
   "execution_count": null,
   "metadata": {},
   "outputs": [],
   "source": [
    "for x in range(87, 485):\n",
    "    webbrowser.get(\"C:/Program Files (x86)/Google/Chrome/Application/chrome.exe %s\").open(\"http://images.mangafreak.net:8080/downloads/Tower_Of_God_\"+str(x))\n",
    "    cond = True\n",
    "    while(cond):\n",
    "        fileName = r\"C:\\Users\\Israel\\Downloads\\teste\\Tower_Of_God_\"+str(x)+\".zip\"\n",
    "        os.path.isfile(fileName)\n",
    "        if os.path.isfile(fileName) == True:\n",
    "            cond = False\n",
    "        time.sleep(1)"
   ]
  },
  {
   "cell_type": "code",
   "execution_count": null,
   "metadata": {},
   "outputs": [],
   "source": [
    "for x in range(5, 485):\n",
    "    cond = True\n",
    "    imagesList = None\n",
    "    imagesList = []\n",
    "    image, path, dirs, files, image1, pdf_filename, append_images, fileName = None, None, None, None, None, None, None, None\n",
    "    fantasy_zip = None\n",
    "        \n",
    "    fantasy_zip = zipfile.ZipFile('C:\\\\Users\\\\Israel\\\\Downloads\\\\teste\\\\Tower_Of_God_'+str(x)+'.zip')\n",
    "    fantasy_zip.extractall('C:\\\\Users\\\\Israel\\\\Downloads\\\\teste\\\\Tower_Of_God_'+str(x))\n",
    "    fantasy_zip.close()\n",
    "    \n",
    "    time.sleep(5)\n",
    "    \n",
    "    path, dirs, files = next(os.walk(\"C:\\\\Users\\\\Israel\\\\Downloads\\\\teste\\\\Tower_Of_God_\"+str(x)))\n",
    "    file_count = len(files)\n",
    "    \n",
    "    time.sleep(3)\n",
    "    \n",
    "    image1 = Image.open(r'C:\\Users\\Israel\\Downloads\\teste\\Tower_Of_God_'+str(x)+'\\\\tower_of_god_'+str(x)+'_1.jpg')\n",
    "    for y in range(2, file_count+1):\n",
    "        image = Image.open(r'C:\\Users\\Israel\\Downloads\\teste\\Tower_Of_God_'+str(x)+'\\\\tower_of_god_'+str(x)+'_'+str(y)+'.jpg')\n",
    "        imagesList.append(image)\n",
    "        #im = image4.convert('RGB')\n",
    "        \n",
    "    pdf_filename = \"/Users/Israel/Downloads/teste/Tower_Of_God_\"+str(x)+\".pdf\"    \n",
    "    image1.save(pdf_filename, \"PDF\" ,resolution=100.0, save_all=True, append_images=imagesList)\n",
    "    \n",
    "    while(cond):\n",
    "        fileName = r\"C:\\Users\\Israel\\Downloads\\teste\\Tower_Of_God_\"+str(x)+\".pdf\"\n",
    "        os.path.isfile(fileName)\n",
    "        if os.path.isfile(fileName) == True:\n",
    "            cond = False\n",
    "        time.sleep(1)\n"
   ]
  }
 ],
 "metadata": {
  "language_info": {
   "codemirror_mode": {
    "name": "ipython",
    "version": 3
   },
   "file_extension": ".py",
   "mimetype": "text/x-python",
   "name": "python",
   "nbconvert_exporter": "python",
   "pygments_lexer": "ipython3",
   "version": 3
  },
  "orig_nbformat": 2
 },
 "nbformat": 4,
 "nbformat_minor": 2
}